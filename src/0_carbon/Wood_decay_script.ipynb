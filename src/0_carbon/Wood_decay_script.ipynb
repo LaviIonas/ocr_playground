{
 "cells": [
  {
   "cell_type": "code",
   "execution_count": 1,
   "metadata": {},
   "outputs": [],
   "source": [
    "import pandas as pd\n",
    "import numpy as np\n",
    "import matplotlib.pyplot as plt\n",
    "import netCDF4 as cdf\n",
    "import xarray as xr"
   ]
  },
  {
   "cell_type": "code",
   "execution_count": 2,
   "metadata": {},
   "outputs": [],
   "source": [
    "with xr.open_dataset('/Users/taiwanesepapaya/codeplay/Wood Harvesting/Masks & grids/paris_countrymask_0.2x0.1deg_2D.nc') as ds:\n",
    "    paris_masks = ds\n",
    "\n",
    "df = pd.read_csv('/Users/taiwanesepapaya/codeplay/Wood Harvesting/FAO Wood Production Maps/AllWood_2006-2022.csv')"
   ]
  },
  {
   "cell_type": "code",
   "execution_count": 3,
   "metadata": {},
   "outputs": [],
   "source": [
    "df.loc[(df['Element']=='Export Quantity'), 'Value']*= -1"
   ]
  },
  {
   "cell_type": "code",
   "execution_count": 4,
   "metadata": {},
   "outputs": [],
   "source": [
    "nt_df = df[['Item', 'Area', 'Year', 'Value']].groupby(['Item', 'Area', 'Year']).sum().reset_index()"
   ]
  },
  {
   "cell_type": "code",
   "execution_count": 5,
   "metadata": {},
   "outputs": [
    {
     "data": {
      "text/html": [
       "<div>\n",
       "<style scoped>\n",
       "    .dataframe tbody tr th:only-of-type {\n",
       "        vertical-align: middle;\n",
       "    }\n",
       "\n",
       "    .dataframe tbody tr th {\n",
       "        vertical-align: top;\n",
       "    }\n",
       "\n",
       "    .dataframe thead th {\n",
       "        text-align: right;\n",
       "    }\n",
       "</style>\n",
       "<table border=\"1\" class=\"dataframe\">\n",
       "  <thead>\n",
       "    <tr style=\"text-align: right;\">\n",
       "      <th></th>\n",
       "      <th>Item</th>\n",
       "      <th>Area</th>\n",
       "      <th>Year</th>\n",
       "      <th>Value</th>\n",
       "    </tr>\n",
       "  </thead>\n",
       "  <tbody>\n",
       "    <tr>\n",
       "      <th>0</th>\n",
       "      <td>Paper and paperboard</td>\n",
       "      <td>Albania</td>\n",
       "      <td>2006</td>\n",
       "      <td>19725.0</td>\n",
       "    </tr>\n",
       "    <tr>\n",
       "      <th>1</th>\n",
       "      <td>Paper and paperboard</td>\n",
       "      <td>Albania</td>\n",
       "      <td>2007</td>\n",
       "      <td>16925.0</td>\n",
       "    </tr>\n",
       "    <tr>\n",
       "      <th>2</th>\n",
       "      <td>Paper and paperboard</td>\n",
       "      <td>Albania</td>\n",
       "      <td>2008</td>\n",
       "      <td>16925.0</td>\n",
       "    </tr>\n",
       "  </tbody>\n",
       "</table>\n",
       "</div>"
      ],
      "text/plain": [
       "                   Item     Area  Year    Value\n",
       "0  Paper and paperboard  Albania  2006  19725.0\n",
       "1  Paper and paperboard  Albania  2007  16925.0\n",
       "2  Paper and paperboard  Albania  2008  16925.0"
      ]
     },
     "execution_count": 5,
     "metadata": {},
     "output_type": "execute_result"
    }
   ],
   "source": [
    "nt_df.head(3)"
   ]
  },
  {
   "cell_type": "code",
   "execution_count": null,
   "metadata": {},
   "outputs": [],
   "source": []
  },
  {
   "cell_type": "markdown",
   "metadata": {},
   "source": [
    "Sawnwood decay patterns & C flux"
   ]
  },
  {
   "cell_type": "code",
   "execution_count": 6,
   "metadata": {},
   "outputs": [
    {
     "name": "stdout",
     "output_type": "stream",
     "text": [
      "1656    6191.948780\n",
      "1657    7345.369512\n",
      "1658    5313.962195\n",
      "1659    4250.195122\n",
      "1660    5197.785366\n",
      "1661    5034.260976\n",
      "1662    4202.369512\n",
      "1663    4440.064634\n",
      "1664    4646.719512\n",
      "1665    3885.164634\n",
      "1666    3968.241463\n",
      "1667    3583.434146\n",
      "1668    4582.780488\n",
      "1669    3677.120732\n",
      "1670    4022.173171\n",
      "1671    4643.951220\n",
      "1672    3695.469512\n",
      "Name: Inflow_c, dtype: float64\n"
     ]
    },
    {
     "name": "stderr",
     "output_type": "stream",
     "text": [
      "/var/folders/p6/2mrc_c6s56jfx77j1t1ryrw40000gn/T/ipykernel_91369/1481199992.py:10: SettingWithCopyWarning: \n",
      "A value is trying to be set on a copy of a slice from a DataFrame.\n",
      "Try using .loc[row_indexer,col_indexer] = value instead\n",
      "\n",
      "See the caveats in the documentation: https://pandas.pydata.org/pandas-docs/stable/user_guide/indexing.html#returning-a-view-versus-a-copy\n",
      "  nt_finland_sw['Inflow_c'] = nt_finland_sw['Value']/410*0.5\n"
     ]
    }
   ],
   "source": [
    "#Sawnwood\n",
    "# density_sawnwood = 0.458\n",
    "# c_fraction_sawnwood = 0.5\n",
    "# Dry weight of wood to volume ratio = 410kg/m3\n",
    "# FAO Value is reported as volume (m3)\n",
    "\n",
    "nt_finland_sw = nt_df[(nt_df['Area']== 'Finland')& (nt_df['Item'] == 'Sawnwood')]\n",
    "\n",
    "# Convert volume to dry weight and get carbon fraction per weight\n",
    "nt_finland_sw['Inflow_c'] = nt_finland_sw['Value']/410*0.5\n",
    "print(nt_finland_sw['Inflow_c'])"
   ]
  },
  {
   "cell_type": "code",
   "execution_count": 7,
   "metadata": {},
   "outputs": [
    {
     "name": "stdout",
     "output_type": "stream",
     "text": [
      "233702.6265960283\n"
     ]
    },
    {
     "data": {
      "text/plain": [
       "233702.6265960283"
      ]
     },
     "execution_count": 7,
     "metadata": {},
     "output_type": "execute_result"
    }
   ],
   "source": [
    "# Define function for sawnwood decay based on half-life of 35 years\n",
    "\n",
    "#Input variables:\n",
    "half_life = 35                                  # years\n",
    "k = np.log(2)/half_life                         # decay constant for sawnwood\n",
    "Inflow_t0 = nt_finland_sw['Inflow_c'].mean()    # Initial carbon inflow of sawnwood\n",
    "c_t0 = Inflow_t0 / k                            # Initial carbon stock of sawnwood\n",
    "\n",
    "def first_order_decay_sw(k=k , Inflow= Inflow_t0, c_i= c_t0): \n",
    "    return np.exp(-1*k)*c_i + ((1-np.exp(-1*k))/k)*Inflow\n",
    "\n",
    "print(first_order_decay_sw(k=k , Inflow= Inflow_t0, c_i= c_t0))\n",
    "\n",
    "first_order_decay_sw()"
   ]
  },
  {
   "cell_type": "code",
   "execution_count": 8,
   "metadata": {},
   "outputs": [
    {
     "name": "stdout",
     "output_type": "stream",
     "text": [
      "233702.6265960283\n",
      "[235250.89885926]\n",
      "[237910.88491378]\n",
      "[238507.28601707]\n",
      "[238038.68932285]\n",
      "[238517.55026847]\n",
      "[238825.10525156]\n",
      "[238302.9211695]\n",
      "[238026.33370024]\n",
      "[237959.79194474]\n",
      "[237140.49161332]\n",
      "[236419.51685942]\n",
      "[235331.6580352]\n",
      "[235254.64717335]\n",
      "[234282.39571825]\n",
      "[233670.86765961]\n",
      "[233686.99287577]\n"
     ]
    }
   ],
   "source": [
    "Inflow_t0 = nt_finland_sw['Inflow_c'].mean()    # Initial carbon inflow of sawnwood\n",
    "c_t0 = Inflow_t0 / k     \n",
    "\n",
    "c_t = c_t0\n",
    "inflow_c_t = Inflow_t0\n",
    "\n",
    "for time in nt_finland_sw['Year']:\n",
    "    \n",
    "    c_t = first_order_decay_sw(k=k,Inflow = inflow_c_t, c_i = c_t)\n",
    "    inflow_c_t = nt_finland_sw[nt_finland_sw['Year']==time][\"Inflow_c\"].values\n",
    "\n",
    "    print(c_t)"
   ]
  },
  {
   "cell_type": "markdown",
   "metadata": {},
   "source": [
    "Wood Based Panels Decay Pattern & C flux"
   ]
  },
  {
   "cell_type": "code",
   "execution_count": 9,
   "metadata": {},
   "outputs": [
    {
     "name": "stdout",
     "output_type": "stream",
     "text": [
      "3100    874.209112\n",
      "3101    944.658839\n",
      "3102    883.837234\n",
      "3103    673.407127\n",
      "3104    786.393332\n",
      "3105    755.452678\n",
      "3106    758.816707\n",
      "3107    713.924966\n",
      "3108    652.530878\n",
      "3109    606.854049\n",
      "3110    682.697517\n",
      "3111    692.352215\n",
      "3112    729.532600\n",
      "3113    689.280517\n",
      "3114    714.900512\n",
      "3115    685.583185\n",
      "3116    671.910034\n",
      "Name: Inflow_c, dtype: float64\n"
     ]
    },
    {
     "name": "stderr",
     "output_type": "stream",
     "text": [
      "/var/folders/p6/2mrc_c6s56jfx77j1t1ryrw40000gn/T/ipykernel_91369/684874457.py:10: SettingWithCopyWarning: \n",
      "A value is trying to be set on a copy of a slice from a DataFrame.\n",
      "Try using .loc[row_indexer,col_indexer] = value instead\n",
      "\n",
      "See the caveats in the documentation: https://pandas.pydata.org/pandas-docs/stable/user_guide/indexing.html#returning-a-view-versus-a-copy\n",
      "  nt_finland_wbp['Inflow_c'] = nt_finland_wbp['Value']/410*c_fraction_wbp\n"
     ]
    }
   ],
   "source": [
    "# Wood Based Panels (WBP)\n",
    "density_wbp = 0.595\n",
    "c_fraction_wbp = 0.454\n",
    "# Dry weight of wood to volume ratio = 410kg/m3\n",
    "# FAO Value is reported as volume (m3)\n",
    "\n",
    "nt_finland_wbp = nt_df[(nt_df['Area']== 'Finland')& (nt_df['Item'] == 'Wood-based panels')]\n",
    "\n",
    "# Convert volume to dry weight and get carbon fraction per weight\n",
    "nt_finland_wbp['Inflow_c'] = nt_finland_wbp['Value']/410*c_fraction_wbp\n",
    "print(nt_finland_wbp['Inflow_c'])"
   ]
  },
  {
   "cell_type": "code",
   "execution_count": 10,
   "metadata": {},
   "outputs": [
    {
     "name": "stdout",
     "output_type": "stream",
     "text": [
      "26554.79972888456\n"
     ]
    },
    {
     "data": {
      "text/plain": [
       "26554.79972888456"
      ]
     },
     "execution_count": 10,
     "metadata": {},
     "output_type": "execute_result"
    }
   ],
   "source": [
    "# Define function for WBP decay based on half-life of 25 years\n",
    "\n",
    "#Input variables:\n",
    "half_life_wbp = 25                                      # years\n",
    "k_wbp = np.log(2)/half_life_wbp                         # decay constant for sawnwood\n",
    "Inflow_t0_wbp = nt_finland_wbp['Inflow_c'].mean()       # Initial carbon inflow of sawnwood\n",
    "c_t0_wbp = Inflow_t0_wbp / k_wbp                        # Initial carbon stock of sawnwood\n",
    "\n",
    "def first_order_decay_wbp(k=k_wbp , Inflow= Inflow_t0_wbp, c_i= c_t0_wbp): \n",
    "    return np.exp(-1*k)*c_i + ((1-np.exp(-1*k))/k)*Inflow\n",
    "\n",
    "print(first_order_decay_wbp(k=k_wbp , Inflow= Inflow_t0_wbp, c_i= c_t0_wbp))\n",
    "\n",
    "first_order_decay_wbp()"
   ]
  },
  {
   "cell_type": "code",
   "execution_count": 11,
   "metadata": {},
   "outputs": [
    {
     "name": "stdout",
     "output_type": "stream",
     "text": [
      "26554.79972888456\n",
      "[26690.85856671]\n",
      "[26892.67891856]\n",
      "[27028.99430508]\n",
      "[26954.04243895]\n",
      "[26992.57439513]\n",
      "[26999.53703101]\n",
      "[27009.62709519]\n",
      "[26975.16612434]\n",
      "[26881.09669387]\n",
      "[26744.55017116]\n",
      "[26686.53922501]\n",
      "[26639.6366747]\n",
      "[26630.68636363]\n",
      "[26582.28160712]\n",
      "[26560.46856764]\n",
      "[26510.33737421]\n"
     ]
    }
   ],
   "source": [
    "Inflow_t0_wbp = nt_finland_wbp['Inflow_c'].mean()    # Initial carbon inflow of sawnwood\n",
    "c_t0_wbp = Inflow_t0_wbp / k_wbp    \n",
    "\n",
    "c_t = c_t0_wbp\n",
    "inflow_c_t = Inflow_t0_wbp\n",
    "\n",
    "for time in nt_finland_wbp['Year']:\n",
    "    \n",
    "    c_t = first_order_decay_wbp(k=k_wbp,Inflow = inflow_c_t, c_i = c_t)\n",
    "    inflow_c_t = nt_finland_wbp[nt_finland_wbp['Year']==time][\"Inflow_c\"].values\n",
    "\n",
    "    print(c_t)"
   ]
  },
  {
   "cell_type": "markdown",
   "metadata": {},
   "source": [
    "Paper & Paperboard decay pattern & C flux"
   ]
  },
  {
   "cell_type": "code",
   "execution_count": 15,
   "metadata": {},
   "outputs": [
    {
     "name": "stderr",
     "output_type": "stream",
     "text": [
      "/var/folders/p6/2mrc_c6s56jfx77j1t1ryrw40000gn/T/ipykernel_91369/301579933.py:8: SettingWithCopyWarning: \n",
      "A value is trying to be set on a copy of a slice from a DataFrame.\n",
      "Try using .loc[row_indexer,col_indexer] = value instead\n",
      "\n",
      "See the caveats in the documentation: https://pandas.pydata.org/pandas-docs/stable/user_guide/indexing.html#returning-a-view-versus-a-copy\n",
      "  nt_finland_pp['Inflow_c'] = nt_finland_pp['Value']*relative_dry_mass_pp*c_fraction_pp\n"
     ]
    },
    {
     "data": {
      "text/plain": [
       "204    672642.9567\n",
       "205    664027.9074\n",
       "206    683874.2196\n",
       "Name: Inflow_c, dtype: float64"
      ]
     },
     "execution_count": 15,
     "metadata": {},
     "output_type": "execute_result"
    }
   ],
   "source": [
    "# Paper & Paperboard (P&P)\n",
    "# Note that paper is not in density \n",
    "relative_dry_mass_pp = 0.9\n",
    "c_fraction_pp = 0.429\n",
    "\n",
    "nt_finland_pp = nt_df[(nt_df['Area']== 'Finland')& (nt_df['Item'] == 'Paper and paperboard')]\n",
    "\n",
    "nt_finland_pp['Inflow_c'] = nt_finland_pp['Value']*relative_dry_mass_pp*c_fraction_pp\n",
    "\n",
    "nt_finland_pp['Inflow_c'].head(3)\n"
   ]
  },
  {
   "cell_type": "code",
   "execution_count": 16,
   "metadata": {},
   "outputs": [
    {
     "name": "stdout",
     "output_type": "stream",
     "text": [
      "1298421.0272917997\n"
     ]
    },
    {
     "data": {
      "text/plain": [
       "1298421.0272917997"
      ]
     },
     "execution_count": 16,
     "metadata": {},
     "output_type": "execute_result"
    }
   ],
   "source": [
    "# Define function for WBP decay based on half-life of 25 years\n",
    "\n",
    "#Input variables:\n",
    "half_life_pp = 2                                      # years\n",
    "k_pp = np.log(2)/half_life_pp                         # decay constant for sawnwood\n",
    "Inflow_t0_pp = nt_finland_pp['Inflow_c'].mean()       # Initial carbon inflow of sawnwood\n",
    "c_t0_pp = Inflow_t0_pp / k_pp                         # Initial carbon stock of sawnwood\n",
    "\n",
    "def first_order_decay_pp(k=k_pp , Inflow= Inflow_t0_pp, c_i= c_t0_pp): \n",
    "    return np.exp(-1*k)*c_i + ((1-np.exp(-1*k))/k)*Inflow\n",
    "\n",
    "print(first_order_decay_pp(k=k_pp , Inflow= Inflow_t0_pp, c_i= c_t0_pp))\n",
    "\n",
    "first_order_decay_pp()"
   ]
  },
  {
   "cell_type": "code",
   "execution_count": 17,
   "metadata": {},
   "outputs": [
    {
     "name": "stdout",
     "output_type": "stream",
     "text": [
      "1298421.0272917997\n",
      "[1486580.40186286]\n",
      "[1612348.49701224]\n",
      "[1718052.31044165]\n",
      "[1660435.27275803]\n",
      "[1626277.90424084]\n",
      "[1592144.86414354]\n",
      "[1591075.45164617]\n",
      "[1509394.88981967]\n",
      "[1425118.1870449]\n",
      "[1283868.32199151]\n",
      "[1217822.05988848]\n",
      "[1137514.60147929]\n",
      "[1077875.50833114]\n",
      "[1001076.63898767]\n",
      "[930121.6587313]\n",
      "[863838.628026]\n"
     ]
    }
   ],
   "source": [
    "c_t = c_t0_pp\n",
    "inflow_c_t = Inflow_t0_pp\n",
    "\n",
    "for time in nt_finland_pp['Year']:\n",
    "    \n",
    "    c_t = first_order_decay_pp(k=k_pp,Inflow = inflow_c_t, c_i = c_t)\n",
    "    inflow_c_t = nt_finland_pp[nt_finland_pp['Year']==time][\"Inflow_c\"].values\n",
    "\n",
    "    print(c_t)"
   ]
  },
  {
   "cell_type": "markdown",
   "metadata": {},
   "source": [
    "Fuel Wood C flux = C pool because we assume instant expiration"
   ]
  },
  {
   "cell_type": "code",
   "execution_count": 20,
   "metadata": {},
   "outputs": [
    {
     "name": "stdout",
     "output_type": "stream",
     "text": [
      "2386     6652.809756\n",
      "2387     6527.428049\n",
      "2388     6958.939024\n",
      "2389     8401.410976\n",
      "2390     8339.385366\n",
      "2391     8885.154878\n",
      "2392     9393.860976\n",
      "2393     9303.174390\n",
      "2394     9427.231707\n",
      "2395     9586.076829\n",
      "2396     8566.391463\n",
      "2397     9633.731707\n",
      "2398     9335.978049\n",
      "2399     9770.380488\n",
      "2400    11005.728049\n",
      "2401    10982.731707\n",
      "2402    11508.680488\n",
      "Name: Inflow_c, dtype: float64\n"
     ]
    },
    {
     "name": "stderr",
     "output_type": "stream",
     "text": [
      "/var/folders/p6/2mrc_c6s56jfx77j1t1ryrw40000gn/T/ipykernel_91369/1267668925.py:2: SettingWithCopyWarning: \n",
      "A value is trying to be set on a copy of a slice from a DataFrame.\n",
      "Try using .loc[row_indexer,col_indexer] = value instead\n",
      "\n",
      "See the caveats in the documentation: https://pandas.pydata.org/pandas-docs/stable/user_guide/indexing.html#returning-a-view-versus-a-copy\n",
      "  nt_finland_fw['Inflow_c'] = nt_finland_fw['Value']/410 * 0.5\n"
     ]
    }
   ],
   "source": [
    "nt_finland_fw = nt_df[(nt_df['Area']== 'Finland')& (nt_df['Item'] == 'Wood fuel')]\n",
    "nt_finland_fw['Inflow_c'] = nt_finland_fw['Value']/410 * 0.5\n",
    "print(nt_finland_fw['Inflow_c'])"
   ]
  },
  {
   "cell_type": "markdown",
   "metadata": {},
   "source": [
    "C flux for 2022"
   ]
  },
  {
   "cell_type": "code",
   "execution_count": 21,
   "metadata": {},
   "outputs": [
    {
     "name": "stdout",
     "output_type": "stream",
     "text": [
      "-66282.53876249632\n"
     ]
    }
   ],
   "source": [
    "# change in stock between 2022 and 2021, accounding for different decay patterns\n",
    "# Units: tC/yr\n",
    "\n",
    "delta_c_sw = (233686.99287577 - 233670.86765961)/1000\n",
    "delta_c_wbp = (26510.33737421 - 26560.46856764)/1000\n",
    "delta_c_pp = 863838.628026 - 930121.6587313\n",
    "delta_c_fw = (11508.680488 - 10982.731707)/1000\n",
    "\n",
    "delta_c_wood_products = delta_c_sw + delta_c_wbp + delta_c_pp + delta_c_fw\n",
    "print(delta_c_wood_products)"
   ]
  },
  {
   "cell_type": "markdown",
   "metadata": {},
   "source": [
    "C flux from wood products in Finland for 2021"
   ]
  },
  {
   "cell_type": "code",
   "execution_count": 51,
   "metadata": {},
   "outputs": [
    {
     "name": "stdout",
     "output_type": "stream",
     "text": [
      "-70955.63659381004\n"
     ]
    }
   ],
   "source": [
    "# change in stock between 2021 and 2020, accounding for different decay patterns\n",
    "# Units: tC/yr\n",
    "\n",
    "delta_c_sw = (233670.86765961 - 234282.39571825)/1000\n",
    "delta_c_wbp = (26560.46856764 - 26582.28160712)/1000\n",
    "delta_c_pp = 930121.6587313 - 1001076.63898767\n",
    "delta_c_fw = (10982.731707 -   11005.728049)/1000\n",
    "\n",
    "delta_c_wood_products_2021 = delta_c_sw + delta_c_wbp + delta_c_pp + delta_c_fw\n",
    "print(delta_c_wood_products_2021)"
   ]
  },
  {
   "cell_type": "code",
   "execution_count": 52,
   "metadata": {},
   "outputs": [
    {
     "name": "stdout",
     "output_type": "stream",
     "text": [
      "-5.539114910057386e-07\n"
     ]
    }
   ],
   "source": [
    "c_flux_wood_product_fin_2021_molC_m2_sec = (((delta_c_wood_products_2021 * 1e+9) / 12)/(338500 * 1e+6))/(365*24*60*60)\n",
    "print(c_flux_wood_product_fin_2021_molC_m2_sec)"
   ]
  },
  {
   "cell_type": "code",
   "execution_count": 39,
   "metadata": {},
   "outputs": [
    {
     "name": "stdout",
     "output_type": "stream",
     "text": [
      "5.259487809999992e-10\n"
     ]
    }
   ],
   "source": [
    "print(delta_c_fw/1e+9)"
   ]
  },
  {
   "cell_type": "code",
   "execution_count": 33,
   "metadata": {},
   "outputs": [
    {
     "name": "stdout",
     "output_type": "stream",
     "text": [
      "-6.628253876249631e-05\n"
     ]
    }
   ],
   "source": [
    "# tC to PgC\n",
    "delta_c_wood_products_PgC = delta_c_wood_products / 1e+9\n",
    "\n",
    "print(delta_c_wood_products_PgC)"
   ]
  },
  {
   "cell_type": "code",
   "execution_count": 48,
   "metadata": {},
   "outputs": [
    {
     "name": "stdout",
     "output_type": "stream",
     "text": [
      "-1.9581252219348986e-16\n"
     ]
    }
   ],
   "source": [
    "# Area of Finland 31,536,000 m2 or 338,500 km2\n",
    "\n",
    "delta_c_wood_products_PgC_km2 = delta_c_wood_products_PgC / 338500\n",
    "delta_c_wood_products_PgC_m2 = delta_c_wood_products_PgC / (338500 * 1e+6)\n",
    "\n",
    "\n",
    "print(delta_c_wood_products_PgC_m2)"
   ]
  },
  {
   "cell_type": "code",
   "execution_count": 49,
   "metadata": {},
   "outputs": [
    {
     "name": "stdout",
     "output_type": "stream",
     "text": [
      "-16.317710182790822\n"
     ]
    }
   ],
   "source": [
    "delta_c_wood_products_molC_m2 = (delta_c_wood_products_PgC_m2 * 1e+18) / 12\n",
    "print(delta_c_wood_products_molC_m2)"
   ]
  },
  {
   "cell_type": "code",
   "execution_count": 50,
   "metadata": {},
   "outputs": [
    {
     "name": "stdout",
     "output_type": "stream",
     "text": [
      "-5.174311955476542e-07\n"
     ]
    }
   ],
   "source": [
    "delta_c_wood_products_molC_m2_sec = delta_c_wood_products_molC_m2 / (365*24*60*60)\n",
    "print(delta_c_wood_products_molC_m2_sec)"
   ]
  },
  {
   "cell_type": "code",
   "execution_count": 35,
   "metadata": {},
   "outputs": [
    {
     "name": "stdout",
     "output_type": "stream",
     "text": [
      "-0.0030313472856134276\n"
     ]
    }
   ],
   "source": [
    "PgCO2_km2_EU27_woodproduct = delta_c_wood_products_PgC_km2 * 4225127 * 3.664\n",
    "print(PgCO2_km2_EU27_woodproduct)"
   ]
  }
 ],
 "metadata": {
  "kernelspec": {
   "display_name": "experimentalenv",
   "language": "python",
   "name": "python3"
  },
  "language_info": {
   "codemirror_mode": {
    "name": "ipython",
    "version": 3
   },
   "file_extension": ".py",
   "mimetype": "text/x-python",
   "name": "python",
   "nbconvert_exporter": "python",
   "pygments_lexer": "ipython3",
   "version": "3.1.0"
  }
 },
 "nbformat": 4,
 "nbformat_minor": 2
}
